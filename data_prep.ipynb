{
 "cells": [
  {
   "cell_type": "code",
   "execution_count": 51,
   "id": "6f89f15a-6e58-4784-8606-030782661ea5",
   "metadata": {
    "tags": []
   },
   "outputs": [],
   "source": [
    "from os import listdir\n",
    "from re import compile, match\n",
    "from random import sample\n",
    "from pandas import DataFrame, read_csv, concat"
   ]
  },
  {
   "cell_type": "code",
   "execution_count": 42,
   "id": "09f451da-b5e6-4e73-ba2a-715e9f8290f8",
   "metadata": {
    "tags": []
   },
   "outputs": [],
   "source": [
    "DATA_PATH = \"./data/train/defog/\""
   ]
  },
  {
   "cell_type": "code",
   "execution_count": 34,
   "id": "cbaf45d0-5f35-4721-85ee-1257b0022a12",
   "metadata": {
    "tags": []
   },
   "outputs": [],
   "source": [
    "def split_data_paths(path: str, split_ratio: float):\n",
    "    \"\"\"\n",
    "    Get paths to csv and split them into train and test set\n",
    "    \n",
    "    params:\n",
    "        paths (str): paths to csv\n",
    "        split_ration (float): ratio of train-test split\n",
    "    \n",
    "    returns:\n",
    "        train_set_paths (list): paths to training set\n",
    "        test_set_paths (list): paths to test set\n",
    "    \"\"\"\n",
    "    \n",
    "    csv_regex = compile(\"\\w+\\.csv\")\n",
    "    csv_paths = listdir(path)\n",
    "    csv_paths = [tmp_path for tmp_path in csv_paths if csv_regex.match(tmp_path)]\n",
    "    paths_len = len(csv_paths)\n",
    "    \n",
    "    train_set_paths = sample(csv_paths, round(split_ratio * paths_len))\n",
    "    test_set_paths = list(set(csv_paths) - set(train_set_paths))\n",
    "\n",
    "    return train_set_paths, test_set_paths"
   ]
  },
  {
   "cell_type": "code",
   "execution_count": 56,
   "id": "a6439632-a992-4c2b-8489-7011f57c24ab",
   "metadata": {
    "tags": []
   },
   "outputs": [],
   "source": [
    "def read_data(paths: list):\n",
    "    \"\"\"\n",
    "    For each patient read csv and combine it into one data frame\n",
    "    \n",
    "    params:\n",
    "        paths (list): list of csv files\n",
    "    \n",
    "    return:\n",
    "        results (pd.DataFrame): combined data frame of all patients in set\n",
    "    \"\"\"\n",
    "    \n",
    "    results = DataFrame()\n",
    "    \n",
    "    for path in paths:\n",
    "        tmp_df = read_csv(DATA_PATH + path)\n",
    "        tmp_df['patient_id'] = path.replace(\".csv\", \"\")\n",
    "        results = concat([results, tmp_df])\n",
    "    \n",
    "    return results"
   ]
  },
  {
   "cell_type": "code",
   "execution_count": 57,
   "id": "ad33c096-be09-44e9-9caf-76ace0645132",
   "metadata": {
    "tags": []
   },
   "outputs": [],
   "source": [
    "train_paths, test_paths = split_data_paths(path=DATA_PATH, split_ratio=0.8)"
   ]
  },
  {
   "cell_type": "code",
   "execution_count": 58,
   "id": "f65c86c6-c3d5-45f7-ad4e-d57854da0dc8",
   "metadata": {
    "tags": []
   },
   "outputs": [],
   "source": [
    "train_set = read_data(paths=train_paths)\n",
    "test_set = read_data(paths=test_paths)"
   ]
  }
 ],
 "metadata": {
  "kernelspec": {
   "display_name": "venv",
   "language": "python",
   "name": "venv"
  },
  "language_info": {
   "codemirror_mode": {
    "name": "ipython",
    "version": 3
   },
   "file_extension": ".py",
   "mimetype": "text/x-python",
   "name": "python",
   "nbconvert_exporter": "python",
   "pygments_lexer": "ipython3",
   "version": "3.10.7"
  }
 },
 "nbformat": 4,
 "nbformat_minor": 5
}
